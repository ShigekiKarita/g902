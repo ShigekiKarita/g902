{
 "cells": [
  {
   "cell_type": "code",
   "execution_count": 2,
   "metadata": {
    "collapsed": true
   },
   "outputs": [],
   "source": [
    "%matplotlib inline\n",
    "%config InlineBackend.figure_format = 'svg'\n",
    "import numpy as np\n",
    "import matplotlib.pyplot as plt\n",
    "plt.style.use(\"ggplot\")\n",
    "floatX = np.float64"
   ]
  },
  {
   "cell_type": "code",
   "execution_count": 4,
   "metadata": {},
   "outputs": [
    {
     "name": "stdout",
     "output_type": "stream",
     "text": [
      "[ 0.2  0.4] [[ 0.065  0.035]\n [ 0.035  0.065]]\n[ 0.5  0.5] [[ 0.065 -0.035]\n [-0.035  0.065]]\n[ 0.8  0.6] [[ 0.065  0.035]\n [ 0.035  0.065]]\n"
     ]
    },
    {
     "data": {
      "text/plain": [
       "<matplotlib.figure.Figure at 0x7f1702be56d8>"
      ]
     },
     "execution_count": 0,
     "metadata": {},
     "output_type": "execute_result"
    }
   ],
   "source": [
    "mean_truth = np.array([\n",
    "    [0.2, 0.4],\n",
    "    [0.5, 0.5],\n",
    "    [0.8, 0.6]\n",
    "])\n",
    "\n",
    "def rotate(theta):\n",
    "    c, s = np.cos(theta), np.sin(theta)\n",
    "    return np.array([[c, -s], [s, c]])\n",
    "\n",
    "cov_truth = np.array([np.diag([1, 0.3]) / 10 for i in range(3)])\n",
    "for c, d in zip(cov_truth, [-1, 1, -1]):\n",
    "    r = rotate(d * np.pi / 4)\n",
    "    c[:] = r.T.dot(c).dot(r)\n",
    "\n",
    "for m, c in zip(mean_truth, cov_truth):\n",
    "    print(m, c)\n",
    "    samples = np.random.normal(size=(500, 2))\n",
    "    samples = samples.dot(c) + m\n",
    "    plt.scatter(samples[:, 0], samples[:, 1], alpha=0.1)"
   ]
  },
  {
   "cell_type": "code",
   "execution_count": null,
   "metadata": {},
   "outputs": [],
   "source": [
    ""
   ]
  },
  {
   "cell_type": "code",
   "execution_count": null,
   "metadata": {},
   "outputs": [],
   "source": [
    ""
   ]
  },
  {
   "cell_type": "code",
   "execution_count": null,
   "metadata": {},
   "outputs": [],
   "source": [
    ""
   ]
  }
 ],
 "metadata": {
  "kernelspec": {
   "display_name": "Python 2",
   "language": "python",
   "name": "python2"
  },
  "language_info": {
   "codemirror_mode": {
    "name": "ipython",
    "version": 2
   },
   "file_extension": ".py",
   "mimetype": "text/x-python",
   "name": "python",
   "nbconvert_exporter": "python",
   "pygments_lexer": "ipython2",
   "version": "2.7.6"
  }
 },
 "nbformat": 4,
 "nbformat_minor": 0
}
